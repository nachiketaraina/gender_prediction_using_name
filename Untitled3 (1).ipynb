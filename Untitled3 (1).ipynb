{
  "nbformat": 4,
  "nbformat_minor": 0,
  "metadata": {
    "colab": {
      "name": "Untitled3.ipynb",
      "version": "0.3.2",
      "provenance": []
    },
    "kernelspec": {
      "name": "python3",
      "display_name": "Python 3"
    },
    "accelerator": "GPU"
  },
  "cells": [
    {
      "cell_type": "code",
      "metadata": {
        "id": "F4zBf_QhzHTJ",
        "colab_type": "code",
        "colab": {}
      },
      "source": [
        "import pandas as pd\n",
        "import numpy as np\n",
        "from keras.layers import LSTM,Dense,Dropout\n",
        "from keras.models import Model,Sequential\n",
        "from sklearn.preprocessing import OneHotEncoder\n",
        "from sklearn.model_selection import train_test_split"
      ],
      "execution_count": 0,
      "outputs": []
    },
    {
      "cell_type": "code",
      "metadata": {
        "id": "aahVKse_z5X0",
        "colab_type": "code",
        "colab": {}
      },
      "source": [
        "male = pd.read_csv(\"Male-Names.csv\")\n",
        "female = pd.read_csv(\"Female-Names.csv\")"
      ],
      "execution_count": 0,
      "outputs": []
    },
    {
      "cell_type": "code",
      "metadata": {
        "id": "CqHbhpjP0H7s",
        "colab_type": "code",
        "colab": {}
      },
      "source": [
        "df=pd.concat([male,female])"
      ],
      "execution_count": 0,
      "outputs": []
    },
    {
      "cell_type": "code",
      "metadata": {
        "id": "gNx2e01l36YH",
        "colab_type": "code",
        "outputId": "861cd738-aa81-42f4-bf77-60bec74955d4",
        "colab": {
          "base_uri": "https://localhost:8080/",
          "height": 34
        }
      },
      "source": [
        "df.shape"
      ],
      "execution_count": 4,
      "outputs": [
        {
          "output_type": "execute_result",
          "data": {
            "text/plain": [
              "(30227, 3)"
            ]
          },
          "metadata": {
            "tags": []
          },
          "execution_count": 4
        }
      ]
    },
    {
      "cell_type": "code",
      "metadata": {
        "id": "3yVDJKa-383Q",
        "colab_type": "code",
        "colab": {}
      },
      "source": [
        "char2idx = {}\n",
        "char_set = [' ', '.','END', 'a', 'c', 'b', 'e', 'd', 'g', 'f', 'i', 'h', 'k', 'j', 'm', 'l', 'o', 'n', 'q', 'p', 's', 'r', 'u', 't', 'w', 'v', 'y', 'x', 'z']\n",
        "index = 0\n",
        "for char in char_set:\n",
        "  char2idx[char] = index\n",
        "  index+=1"
      ],
      "execution_count": 0,
      "outputs": []
    },
    {
      "cell_type": "code",
      "metadata": {
        "id": "7SP4yYXQGOkl",
        "colab_type": "code",
        "colab": {}
      },
      "source": [
        ""
      ],
      "execution_count": 0,
      "outputs": []
    },
    {
      "cell_type": "code",
      "metadata": {
        "id": "woOd2-0o4y7A",
        "colab_type": "code",
        "colab": {}
      },
      "source": [
        "def should_keep(word):\n",
        "  if (len(word)) > 19:\n",
        "    return False\n",
        "  for ch in word :\n",
        "    if ch not in char_set:\n",
        "      return False\n",
        "  else :\n",
        "    return True"
      ],
      "execution_count": 0,
      "outputs": []
    },
    {
      "cell_type": "code",
      "metadata": {
        "id": "-iJedMp_43kU",
        "colab_type": "code",
        "colab": {}
      },
      "source": [
        "def clean(name):\n",
        "  name = str(name).lower()\n",
        "  if should_keep(name):\n",
        "    return name\n",
        "  else:\n",
        "    return None"
      ],
      "execution_count": 0,
      "outputs": []
    },
    {
      "cell_type": "code",
      "metadata": {
        "id": "TmqAcsqe5_9k",
        "colab_type": "code",
        "colab": {}
      },
      "source": [
        "df.name = df.name.apply(lambda x:clean(x))"
      ],
      "execution_count": 0,
      "outputs": []
    },
    {
      "cell_type": "code",
      "metadata": {
        "id": "OfYgyZB36L6J",
        "colab_type": "code",
        "colab": {}
      },
      "source": [
        "df =df.dropna()"
      ],
      "execution_count": 0,
      "outputs": []
    },
    {
      "cell_type": "code",
      "metadata": {
        "id": "5IJZRxk26pty",
        "colab_type": "code",
        "outputId": "e72f65d4-5f3d-41b2-e62b-161a05b47fdc",
        "colab": {
          "base_uri": "https://localhost:8080/",
          "height": 67
        }
      },
      "source": [
        "x=0\n",
        "for _ in range(3):\n",
        "  print(x)"
      ],
      "execution_count": 10,
      "outputs": [
        {
          "output_type": "stream",
          "text": [
            "0\n",
            "0\n",
            "0\n"
          ],
          "name": "stdout"
        }
      ]
    },
    {
      "cell_type": "code",
      "metadata": {
        "id": "f6fi4lHU_dZW",
        "colab_type": "code",
        "colab": {}
      },
      "source": [
        "max_len =20\n",
        "def conv_onehot(word):\n",
        "  word_char = []\n",
        "  \n",
        "  for ch in word:\n",
        "    one_hot_vec = np.zeros(len(char_set),)\n",
        "    one_hot_vec[char2idx[ch]] = 1\n",
        "    word_char.append(one_hot_vec)\n",
        "    \n",
        "  for _ in range(max_len-len(word)):\n",
        "    one_hot_vec = np.zeros(len(char_set),)\n",
        "    one_hot_vec[char2idx[\"END\"]] = 1\n",
        "    word_char.append(one_hot_vec)\n",
        "    \n",
        "  word_char = np.array(word_char)\n",
        "  return word_char"
      ],
      "execution_count": 0,
      "outputs": []
    },
    {
      "cell_type": "code",
      "metadata": {
        "id": "QCdCWP_HNgmx",
        "colab_type": "code",
        "colab": {}
      },
      "source": [
        "\n",
        "max_word_len = 20\n",
        "def convert_one_hot(word):\n",
        "    word_chars = []\n",
        "    \n",
        "    \n",
        "    for ch in word:\n",
        "        one_hot_vec = np.zeros(len(char_set),)\n",
        "        one_hot_vec[char2idx[ch]] = 1\n",
        "        word_chars.append(one_hot_vec)\n",
        "    \n",
        "    \n",
        "    for _ in range(max_word_len-len(word)):\n",
        "        one_hot_vec = np.zeros(len(char_set),)\n",
        "        one_hot_vec[char2idx['END']] = 1\n",
        "        word_chars.append(one_hot_vec)\n",
        "    \n",
        "    \n",
        "    word_chars = np.array(word_chars)\n",
        "    return word_chars"
      ],
      "execution_count": 0,
      "outputs": []
    },
    {
      "cell_type": "code",
      "metadata": {
        "id": "rhfUlIclJHMk",
        "colab_type": "code",
        "colab": {}
      },
      "source": [
        "words=[]\n",
        "labels = []\n",
        "df =df.drop([\"race\"],axis =1)"
      ],
      "execution_count": 0,
      "outputs": []
    },
    {
      "cell_type": "code",
      "metadata": {
        "id": "6EJFhb-oKFoG",
        "colab_type": "code",
        "colab": {}
      },
      "source": [
        "for name,label in df.itertuples(index = False):\n",
        "  words.append(conv_onehot(name))\n",
        "  labels.append(label)"
      ],
      "execution_count": 0,
      "outputs": []
    },
    {
      "cell_type": "code",
      "metadata": {
        "id": "LSfUiwXFMC8X",
        "colab_type": "code",
        "colab": {}
      },
      "source": [
        "words = np.array(words)\n",
        "labels = np.array(labels)"
      ],
      "execution_count": 0,
      "outputs": []
    },
    {
      "cell_type": "code",
      "metadata": {
        "id": "iM_K6uMcORjF",
        "colab_type": "code",
        "colab": {
          "base_uri": "https://localhost:8080/",
          "height": 34
        },
        "outputId": "d38609c6-b218-40f1-952b-9d840c6f2591"
      },
      "source": [
        "\n",
        "words.shape"
      ],
      "execution_count": 17,
      "outputs": [
        {
          "output_type": "execute_result",
          "data": {
            "text/plain": [
              "(27980, 20, 29)"
            ]
          },
          "metadata": {
            "tags": []
          },
          "execution_count": 17
        }
      ]
    },
    {
      "cell_type": "code",
      "metadata": {
        "id": "vnNIcgFJNfFU",
        "colab_type": "code",
        "colab": {}
      },
      "source": [
        "ohe = OneHotEncoder()\n",
        "y = ohe.fit_transform(labels.reshape(-1 , 1)).todense()"
      ],
      "execution_count": 0,
      "outputs": []
    },
    {
      "cell_type": "code",
      "metadata": {
        "id": "otEFufXoOWWd",
        "colab_type": "code",
        "colab": {
          "base_uri": "https://localhost:8080/",
          "height": 269
        },
        "outputId": "33fb0b54-50d8-42ab-8440-5e9c837207ee"
      },
      "source": [
        "model = Sequential()\n",
        "model.add(LSTM(64,input_shape = (20,29),return_sequences = True))\n",
        "model.add(LSTM(64))\n",
        "model.add(Dropout(0.3))\n",
        "model.add(Dense(2,activation=\"sigmoid\"))\n",
        "model.summary()"
      ],
      "execution_count": 48,
      "outputs": [
        {
          "output_type": "stream",
          "text": [
            "_________________________________________________________________\n",
            "Layer (type)                 Output Shape              Param #   \n",
            "=================================================================\n",
            "lstm_6 (LSTM)                (None, 20, 64)            24064     \n",
            "_________________________________________________________________\n",
            "lstm_7 (LSTM)                (None, 64)                33024     \n",
            "_________________________________________________________________\n",
            "dropout_2 (Dropout)          (None, 64)                0         \n",
            "_________________________________________________________________\n",
            "dense_2 (Dense)              (None, 2)                 130       \n",
            "=================================================================\n",
            "Total params: 57,218\n",
            "Trainable params: 57,218\n",
            "Non-trainable params: 0\n",
            "_________________________________________________________________\n"
          ],
          "name": "stdout"
        }
      ]
    },
    {
      "cell_type": "code",
      "metadata": {
        "id": "WkPcEBy1Pr8e",
        "colab_type": "code",
        "colab": {}
      },
      "source": [
        "model.compile(optimizer=\"rmsprop\",loss = \"binary_crossentropy\" , metrics=[\"acc\"])"
      ],
      "execution_count": 0,
      "outputs": []
    },
    {
      "cell_type": "code",
      "metadata": {
        "id": "kHtvwWm5QozL",
        "colab_type": "code",
        "colab": {}
      },
      "source": [
        "train_test_split?"
      ],
      "execution_count": 0,
      "outputs": []
    },
    {
      "cell_type": "code",
      "metadata": {
        "id": "Ph6dCgW7RFRD",
        "colab_type": "code",
        "colab": {}
      },
      "source": [
        "X_train, X_test, y_train, y_test = train_test_split(\n",
        "...     words,y,test_size=0.33, random_state=42)"
      ],
      "execution_count": 0,
      "outputs": []
    },
    {
      "cell_type": "code",
      "metadata": {
        "id": "3kYIxxAiSBn5",
        "colab_type": "code",
        "colab": {
          "base_uri": "https://localhost:8080/",
          "height": 370
        },
        "outputId": "27e2e143-e2e3-426f-c78c-2b41da1b5969"
      },
      "source": [
        "model.fit(X_train,y_train,epochs = 10)"
      ],
      "execution_count": 51,
      "outputs": [
        {
          "output_type": "stream",
          "text": [
            "Epoch 1/10\n",
            "18747/18747 [==============================] - 51s 3ms/step - loss: 0.5274 - acc: 0.7414\n",
            "Epoch 2/10\n",
            "18747/18747 [==============================] - 50s 3ms/step - loss: 0.3936 - acc: 0.8338\n",
            "Epoch 3/10\n",
            "18747/18747 [==============================] - 50s 3ms/step - loss: 0.3424 - acc: 0.8610\n",
            "Epoch 4/10\n",
            "18747/18747 [==============================] - 49s 3ms/step - loss: 0.3062 - acc: 0.8811\n",
            "Epoch 5/10\n",
            "18747/18747 [==============================] - 49s 3ms/step - loss: 0.2801 - acc: 0.8926\n",
            "Epoch 6/10\n",
            "18747/18747 [==============================] - 49s 3ms/step - loss: 0.2624 - acc: 0.8998\n",
            "Epoch 7/10\n",
            "18747/18747 [==============================] - 48s 3ms/step - loss: 0.2439 - acc: 0.9119\n",
            "Epoch 8/10\n",
            "18747/18747 [==============================] - 48s 3ms/step - loss: 0.2342 - acc: 0.9171\n",
            "Epoch 9/10\n",
            "18747/18747 [==============================] - 48s 3ms/step - loss: 0.2219 - acc: 0.9219\n",
            "Epoch 10/10\n",
            "18747/18747 [==============================] - 48s 3ms/step - loss: 0.2099 - acc: 0.9259\n"
          ],
          "name": "stdout"
        },
        {
          "output_type": "execute_result",
          "data": {
            "text/plain": [
              "<keras.callbacks.History at 0x7ff7c0318b38>"
            ]
          },
          "metadata": {
            "tags": []
          },
          "execution_count": 51
        }
      ]
    },
    {
      "cell_type": "code",
      "metadata": {
        "id": "irEolFpsSYod",
        "colab_type": "code",
        "colab": {
          "base_uri": "https://localhost:8080/",
          "height": 34
        },
        "outputId": "7a7c8871-d661-4063-975d-7dde2f870587"
      },
      "source": [
        "model.predict(convert_one_hot(\"pakistani\").reshape(1,20,29))"
      ],
      "execution_count": 74,
      "outputs": [
        {
          "output_type": "execute_result",
          "data": {
            "text/plain": [
              "array([[0.8644002, 0.1332736]], dtype=float32)"
            ]
          },
          "metadata": {
            "tags": []
          },
          "execution_count": 74
        }
      ]
    },
    {
      "cell_type": "code",
      "metadata": {
        "id": "q7ywGIwLUnfe",
        "colab_type": "code",
        "colab": {}
      },
      "source": [
        "\n"
      ],
      "execution_count": 0,
      "outputs": []
    }
  ]
}